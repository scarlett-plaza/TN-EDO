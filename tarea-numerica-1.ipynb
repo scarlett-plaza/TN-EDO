{
  "nbformat": 4,
  "nbformat_minor": 0,
  "metadata": {
    "colab": {
      "name": "Copia de Untitled3.ipynb",
      "version": "0.3.2",
      "provenance": [],
      "include_colab_link": true
    },
    "kernelspec": {
      "name": "python3",
      "display_name": "Python 3"
    }
  },
  "cells": [
    {
      "cell_type": "markdown",
      "metadata": {
        "id": "view-in-github",
        "colab_type": "text"
      },
      "source": [
        "<a href=\"https://colab.research.google.com/github/scarlett-plaza/TN1-EDO/blob/master/tarea-numerica-1.ipynb\" target=\"_parent\"><img src=\"https://colab.research.google.com/assets/colab-badge.svg\" alt=\"Open In Colab\"/></a>"
      ]
    },
    {
      "cell_type": "code",
      "metadata": {
        "id": "cs6SSdWrC6r0",
        "colab_type": "code",
        "colab": {}
      },
      "source": [
        "# -*- coding: utf-8 -*-\n",
        "\"\"\"\n",
        "En este archivo debe implementar todos los métodos que se indican\n",
        "para resolver la tarea.\n",
        "Usted es libre de implementar nuevas funciones si lo estima conveniente.\n",
        "La librería numpy contiene varios métodos ya implementados que pueden\n",
        "resultarle útiles.\n",
        "Las funciones siguientes (salvo funcionEjemplo) deben ser completadas,\n",
        "cambiando la linea pass por return en donde considere necesario.\n",
        "No elimine nada de lo que viene escrito originalmente.\n",
        "Escriba los docstring de las funciones implementadas tal como en\n",
        "el ejemplo.\n",
        "\"\"\"\n",
        "\n",
        "import numpy as np\n",
        "\n",
        "G=6.67*(10**(-11))\n",
        "M=(1/6.67)*(10**11)\n",
        "m=1\n",
        "global G,M,m\n",
        "\n",
        "def funcionEjemplo(n, x):\n",
        "    \"\"\"\n",
        "    El texto que se escribe en este bloque de comentarios es mostrado al\n",
        "    utilizar el comando help(funcionEjemplo).\n",
        "    En la primera parte se describe de modo general el funcionamiento de\n",
        "    la función, en los términos más simples posibles.\n",
        "    Note que en este ejemplo el nombre de la función no es descriptivo.\n",
        "    Esta función calcula x^n*cos(x)\n",
        "    Inputs:\n",
        "    =======\n",
        "    n [int]: Grado del coeficiente\n",
        "    x [np.ndarray]: Puntos a calcular\n",
        "    Output:\n",
        "    =======\n",
        "    valor [np.ndarray]: Evaluación de la función\n",
        "    \"\"\"\n",
        "    valor = np.power(x, n)*np.cos(x)\n",
        "    return valor\n",
        "  \n",
        "###########################################################\n",
        "# Desde esta parte debe comenzar a completar ##############\n",
        "###########################################################\n",
        "\n",
        "\n",
        "def ecuacionDeMovimiento(t, estado):\n",
        "    \"\"\"\n",
        "    Implementa la ecuación de movimiento, como sistema de ecuaciones de\n",
        "    primer orden. D = estado (vector)\n",
        "    Escribiendo D' = f(t,D), retorna el valor de f(t, D) (vector)\n",
        "    \"\"\"\n",
        "    x=estado[0] #recupera del vector estado la informacion de x\n",
        "    y=estado[1] #recupera del vector estado la informacion de y\n",
        "    dx=estado[2] #recupera del vector estado la informacion de vx\n",
        "    dy=estado[3] #recupera del vector estado la informacion de vy\n",
        "    dvx=-G*M*x/((x**2+y**2)**(3/2.)) #define la derivada de la velocidad en x\n",
        "    dvy=-G*M*y/((x**2+y**2)**(3/2.)) #define la derivada de la velocidad en y\n",
        "    ft=np.array([dx,dy,dvx,dvy]) #define el vector estado derivado\n",
        "    f=np.array([t,ft]) #crea un arreglo con el tiempo en el cual se está evaluando el estado y el estado en ese tiempo\n",
        "    return f   \n",
        "   \n",
        "\n",
        "\n",
        "def pasoEuler(ecMovimiento, dt, t, estado):\n",
        "    \"\"\"\n",
        "    Calcula el paso para el método de Euler\n",
        "    \"\"\"\n",
        "    PE=dt*ecuacionDeMovimiento(t,estado)[1] #dado el estado en un tiempo define el paso de euler para ese tiempo\n",
        "    return PE\n",
        "\n",
        "\n",
        "def pasoHeun(ecMovimiento, dt, t, estado):\n",
        "    \"\"\"\n",
        "    Calcula el paso para el método de Heun\n",
        "    \"\"\"\n",
        "    XGorrito=estado+pasoEuler(ecMovimiento,dt,t,estado) #define un nuevo valor de estado sacado con el paso de Euler\n",
        "    f1=ecuacionDeMovimiento(t,XGorrito) #saca la ecuacion de movimiento para el nuevo valor y el tiempo t\n",
        "    ec=ecuacionDeMovimiento(t,estado) #saca la funcion de movimiento para un tiempo t y el valor inicial del estado\n",
        "    PH=(dt/2)*(ec+f1)[1] #calcula el paso de Heun\n",
        "    return PH\n",
        "\n",
        "\n",
        "def pasoRK4(ecMovimiento, dt, t, estado):\n",
        "    \"\"\"\n",
        "    Calcula el paso para el método RK4\n",
        "    \"\"\"\n",
        "    f1=ecuacionDeMovimiento(t,estado) #define la ecuacion de movimiento en un tiempo t\n",
        "    f2=ecuacionDeMovimiento(t+dt/2,estado+dt/2*f1[1]) #define una ecuacion de movimiento en un tiempo t+dt/2 y un estado avanzado en dt/2*f1\n",
        "    f3=ecuacionDeMovimiento(t+dt/2,estado+dt/2*f2[1]) #define una ecuacion de movimiento en un tiempo t+dt/2 y un estado avanzado en dt/2*f2\n",
        "    f4=ecuacionDeMovimiento(t+dt,estado+dt*f3[1]) #define una ecuacion de movimiento enun tiempo t+dt y un estado avanzado en dt*f3\n",
        "    PRK4=dt*((f1[1]+2*f2[1]+2*f3[1]+f4[1])/6) #calcula el paso de RK4\n",
        "    return  PRK4\n",
        "\n",
        "\n",
        "def solveEuler(e0, ecMovimiento, dt, T):\n",
        "    \"\"\"\n",
        "    Recibe una condición inicial, la ecuación de movimiento, un paso dt\n",
        "    y un tiempo final.\n",
        "    Retorna la trayectoria del estado en los tiempos hasta T\n",
        "    Usa su respectiva función de paso (no lo calcule acá)\n",
        "    \"\"\"\n",
        "    N=int(T/dt) #cuenta la cantidad de iteraciones que se deben hacer\n",
        "    A=np.zeros([N,4]) #crea una matriz de Nx4 para guardar la informacion de las iteraciones\n",
        "    A[0]=e0 #define la condicion inicial\n",
        "    i=1 #contador\n",
        "    while i<len(A):\n",
        "      ti=i*dt #define el tiempo en i \n",
        "      Xeuler=A[i-1]+pasoEuler(ecMovimiento,dt,ti,A[i-1]) #calcula el valor de la funcion en el tiempo ti\n",
        "      A[i]=Xeuler #guarda la informacion en el vector A\n",
        "      i=i+1 #hace avanzar el contador\n",
        "    return A\n",
        "      \n",
        "\n",
        "def solveHeun(e0, ecMovimiento, dt, T):\n",
        "    \"\"\"\n",
        "    Recibe una condición inicial, la ecuación de movimiento, un paso dt\n",
        "    y un tiempo final.\n",
        "    Retorna la trayectoria del estado en los tiempos hasta T\n",
        "    Usa su respectiva función de paso (no lo calcule acá)\n",
        "    \"\"\"\n",
        "    N=int(T/dt) #cuenta la cantidad de iteraciones que se deben hacer\n",
        "    A=np.zeros([N,4]) #crea una matriz de Nx4 para guardar la informacion de las iteraciones\n",
        "    A[0]=e0 #define la condicion inicial\n",
        "    i=1 #contador\n",
        "    while i<len(A):\n",
        "      ti=i*dt #define el tiempo en i \n",
        "      Xheun=A[i-1]+pasoHeun(ecMovimiento,dt,ti,A[i-1]) #calcula el valor de la funcion en el tiempo ti\n",
        "      A[i]=Xheun #guarda la informacion en el vector A\n",
        "      i=i+1 #hace avanzar el contador\n",
        "    return A\n",
        "\n",
        "\n",
        "def solveRK4(e0, ecMovimiento, dt, T):\n",
        "    \"\"\"\n",
        "    Recibe una condición inicial, la ecuación de movimiento, un paso dt\n",
        "    y un tiempo final.\n",
        "    Retorna la trayectoria del estado en los tiempos hasta T\n",
        "    Usa su respectiva función de paso (no lo calcule acá)\n",
        "    \"\"\"\n",
        "    N=int(T/dt) #cuenta la cantidad de iteraciones que se deben hacer\n",
        "    A=np.empty([N,4]) #crea una matriz de Nx4 para guardar la informacion de las iteraciones\n",
        "    A[0]=e0 #define la condicion inicial\n",
        "    i=1 #contador\n",
        "    while i<len(A):\n",
        "      ti=i*dt #define el tiempo en i \n",
        "      Xrk4=A[i-1]+pasoRK4(ecMovimiento,dt,ti,A[i-1]) #calcula el valor de la funcion en el tiempo ti\n",
        "      A[i]=Xrk4 #guarda la informacion en el vector A\n",
        "      i=i+1 #hace avanzar el contador\n",
        "    return A\n",
        "\n",
        "\n",
        "def energiaTotal(x, y, vx, vy):\n",
        "    \"\"\"\n",
        "    Calcula la energía total del sistema en las condiciones actuales.\n",
        "    Retorna el valor de la energía total en el punto\n",
        "    \"\"\"\n",
        "    K=(vx**2+vy**2)/2. #calcula la energia cinética\n",
        "    U=(G*M*m)/np.sqrt(x**2+y**2) #calcula la energía potencial\n",
        "    E=K+U #calcula la energia total\n",
        "    return E\n"
      ],
      "execution_count": 0,
      "outputs": []
    },
    {
      "cell_type": "code",
      "metadata": {
        "id": "NtAt5XuyoHea",
        "colab_type": "code",
        "colab": {
          "base_uri": "https://localhost:8080/",
          "height": 273
        },
        "outputId": "b42b2f75-90e5-45a2-aef5-781a3e8c91d0"
      },
      "source": [
        "e0=np.array([10,0,0,0.3])\n",
        "estado=np.array([10,0,0,0.3])\n",
        "ecMovimiento=ecuacionDeMovimiento(0,estado)\n",
        "solveEuler(e0,ecMovimiento,1,2500)\n",
        "\n",
        "\n"
      ],
      "execution_count": 17,
      "outputs": [
        {
          "output_type": "execute_result",
          "data": {
            "text/plain": [
              "array([[ 1.00000000e+01,  0.00000000e+00,  0.00000000e+00,\n",
              "         3.00000000e-01],\n",
              "       [ 1.00000000e+01,  3.00000000e-01, -1.00000000e-02,\n",
              "         3.00000000e-01],\n",
              "       [ 9.99000000e+00,  6.00000000e-01, -1.99865152e-02,\n",
              "         2.99700405e-01],\n",
              "       ...,\n",
              "       [ 3.06743645e+01, -5.15639630e-01, -1.60581647e-02,\n",
              "         1.61522000e-01],\n",
              "       [ 3.06583063e+01, -3.54117630e-01, -1.71205078e-02,\n",
              "         1.61539859e-01],\n",
              "       [ 3.06411858e+01, -1.92577771e-01, -1.81842019e-02,\n",
              "         1.61552145e-01]])"
            ]
          },
          "metadata": {
            "tags": []
          },
          "execution_count": 17
        }
      ]
    },
    {
      "cell_type": "code",
      "metadata": {
        "id": "_myL6PGRiDOs",
        "colab_type": "code",
        "colab": {
          "base_uri": "https://localhost:8080/",
          "height": 273
        },
        "outputId": "6ab3010f-3235-4bb3-c6b4-e3e57a9089da"
      },
      "source": [
        "e0=np.array([10,0,0,0.3])\n",
        "estado=np.array([10,0,0,0.3])\n",
        "ecMovimiento=ecuacionDeMovimiento(0,estado)\n",
        "solveHeun(e0,ecMovimiento,1,2500)"
      ],
      "execution_count": 43,
      "outputs": [
        {
          "output_type": "execute_result",
          "data": {
            "text/plain": [
              "array([[ 1.00000000e+01,  0.00000000e+00,  0.00000000e+00,\n",
              "         3.00000000e-01],\n",
              "       [ 9.99500000e+00,  3.00000000e-01, -9.99325759e-03,\n",
              "         2.99850202e-01],\n",
              "       [ 9.98000849e+00,  5.99700180e-01, -1.99795055e-02,\n",
              "         2.99400525e-01],\n",
              "       ...,\n",
              "       [-7.68078194e+00,  2.96248335e+00, -1.23785855e-01,\n",
              "        -3.43298746e-01],\n",
              "       [-7.79768424e+00,  2.61652961e+00, -1.09907929e-01,\n",
              "        -3.48301023e-01],\n",
              "       [-7.90058516e+00,  2.26587737e+00, -9.57990404e-02,\n",
              "        -3.52689357e-01]])"
            ]
          },
          "metadata": {
            "tags": []
          },
          "execution_count": 43
        }
      ]
    },
    {
      "cell_type": "code",
      "metadata": {
        "id": "SRv9jbVpBROb",
        "colab_type": "code",
        "colab": {
          "base_uri": "https://localhost:8080/",
          "height": 273
        },
        "outputId": "a6e88984-2b59-403c-f687-2023915743d9"
      },
      "source": [
        "e0=np.array([10,0,0,0.3])\n",
        "estado=np.array([10,0,0,0.3])\n",
        "ecMovimiento=ecuacionDeMovimiento(0,estado)\n",
        "solveRK4(e0,ecMovimiento,1,2500)"
      ],
      "execution_count": 19,
      "outputs": [
        {
          "output_type": "execute_result",
          "data": {
            "text/plain": [
              "array([[ 1.00000000e+01,  0.00000000e+00,  0.00000000e+00,\n",
              "         3.00000000e-01],\n",
              "       [ 9.99500029e+00,  2.99949998e-01, -9.99883331e-03,\n",
              "         2.99850001e-01],\n",
              "       [ 9.98000467e+00,  5.99600004e-01, -1.99906642e-02,\n",
              "         2.99400020e-01],\n",
              "       ...,\n",
              "       [-8.18141750e+00,  8.47921082e-02, -3.45410331e-03,\n",
              "        -3.66648789e-01],\n",
              "       [-8.17740305e+00, -2.81822505e-01,  1.14814167e-02,\n",
              "        -3.66468909e-01],\n",
              "       [-8.15846374e+00, -6.47922802e-01,  2.63897079e-02,\n",
              "        -3.65620452e-01]])"
            ]
          },
          "metadata": {
            "tags": []
          },
          "execution_count": 19
        }
      ]
    },
    {
      "cell_type": "code",
      "metadata": {
        "id": "TPdRt7SQ5Nv8",
        "colab_type": "code",
        "colab": {
          "base_uri": "https://localhost:8080/",
          "height": 409
        },
        "outputId": "439f5112-c69c-4754-8d2e-01084550704b"
      },
      "source": [
        "import matplotlib.pyplot as plt\n",
        "plt.figure(figsize=(8,5)) #crea una figura para hacer el grafico\n",
        "a=solveRK4(e0,ecMovimiento,1,500) #crea un vector con la solucion de Runge Kutta\n",
        "t=np.arange(0,500,1) #crea un vector con los tiempos \n",
        "X=np.empty(len(t)) #se crea un vector vacio para guardar los datos de x\n",
        "Y=np.empty(len(t)) #se crea un vector para guardar los datos de y\n",
        "VX=np.empty(len(t)) #se crea un vector para guardar los datos de vx\n",
        "VY=np.empty(len(t)) #se crea un vector para guardar los datos de vy\n",
        "i=0 #contador\n",
        "while i<len(t):\n",
        "  x=a[i][0] #define x segun su valor en ese tiempo\n",
        "  y=a[i][1] #define y segun su valor en ese tiempo\n",
        "  vx=a[i][2] #define vx segun su valor en ese tiempo\n",
        "  vy=a[i][3] #define vy segun su valor en ese tiempo\n",
        "  X[i]=x #guarda el valor de x \n",
        "  Y[i]=y #guarda el valor de y\n",
        "  VX[i]=vx #guarda el valor de vx\n",
        "  VY[i]=vy #guarda el valor de vy\n",
        "  i+=1 #avanza el contador\n",
        "plt.plot(X,Y) #grafica los valores de X en funcion de Y\n",
        "plt.title(\"Órbita del planeta según la aproximacion de Runge Kutta de orden 4\") #agrega el titulo\n",
        "plt.xlabel(\"Posición en X\") #etiqueta el eje x\n",
        "plt.ylabel(\"Posición en Y\") #etiqueta el eje y"
      ],
      "execution_count": 45,
      "outputs": [
        {
          "output_type": "execute_result",
          "data": {
            "text/plain": [
              "Text(0, 0.5, 'Posición en Y')"
            ]
          },
          "metadata": {
            "tags": []
          },
          "execution_count": 45
        },
        {
          "output_type": "display_data",
          "data": {
            "image/png": "[encoded data removed]",
            "text/plain": [
              "<Figure size 576x360 with 1 Axes>"
            ]
          },
          "metadata": {
            "tags": []
          }
        }
      ]
    },
    {
      "cell_type": "code",
      "metadata": {
        "id": "qj8qENUVHd3y",
        "colab_type": "code",
        "outputId": "1b725164-d0b9-4f0a-d04a-5bbbf9865ad2",
        "colab": {
          "base_uri": "https://localhost:8080/",
          "height": 267
        }
      },
      "source": [
        "ET=np.empty(len(t)) #crea un vector donde se guardara la informacion sobre la energia\n",
        "j=0 #contador\n",
        "while j<len(t):\n",
        "  et=energiaTotal(X[j],Y[j],VX[j],VY[j]) #calcula la energia\n",
        "  ET[j]=et #guarda el valor de la energia \n",
        "  j+=1 #avaza el contador\n",
        "print(\"La energía promedio es: \"+str(ET.mean())) #muestra el valor de su promedio\n",
        "print(\"La desviación estandar de la energía es: \"+ str(ET.std())) #muestra el valor de su desviacion estandar"
      ],
      "execution_count": 1,
      "outputs": [
        {
          "output_type": "error",
          "ename": "NameError",
          "evalue": "ignored",
          "traceback": [
            "\u001b[0;31m---------------------------------------------------------------------------\u001b[0m",
            "\u001b[0;31mNameError\u001b[0m                                 Traceback (most recent call last)",
            "\u001b[0;32m<ipython-input-1-f063c3929630>\u001b[0m in \u001b[0;36m<module>\u001b[0;34m()\u001b[0m\n\u001b[0;32m----> 1\u001b[0;31m \u001b[0mET\u001b[0m\u001b[0;34m=\u001b[0m\u001b[0mnp\u001b[0m\u001b[0;34m.\u001b[0m\u001b[0mempty\u001b[0m\u001b[0;34m(\u001b[0m\u001b[0mlen\u001b[0m\u001b[0;34m(\u001b[0m\u001b[0mt\u001b[0m\u001b[0;34m)\u001b[0m\u001b[0;34m)\u001b[0m \u001b[0;31m#crea un vector donde se guardara la informacion sobre la energia\u001b[0m\u001b[0;34m\u001b[0m\u001b[0;34m\u001b[0m\u001b[0m\n\u001b[0m\u001b[1;32m      2\u001b[0m \u001b[0mj\u001b[0m\u001b[0;34m=\u001b[0m\u001b[0;36m0\u001b[0m \u001b[0;31m#contador\u001b[0m\u001b[0;34m\u001b[0m\u001b[0;34m\u001b[0m\u001b[0m\n\u001b[1;32m      3\u001b[0m \u001b[0;32mwhile\u001b[0m \u001b[0mj\u001b[0m\u001b[0;34m<\u001b[0m\u001b[0mlen\u001b[0m\u001b[0;34m(\u001b[0m\u001b[0mt\u001b[0m\u001b[0;34m)\u001b[0m\u001b[0;34m:\u001b[0m\u001b[0;34m\u001b[0m\u001b[0;34m\u001b[0m\u001b[0m\n\u001b[1;32m      4\u001b[0m   \u001b[0met\u001b[0m\u001b[0;34m=\u001b[0m\u001b[0menergiaTotal\u001b[0m\u001b[0;34m(\u001b[0m\u001b[0mX\u001b[0m\u001b[0;34m[\u001b[0m\u001b[0mj\u001b[0m\u001b[0;34m]\u001b[0m\u001b[0;34m,\u001b[0m\u001b[0mY\u001b[0m\u001b[0;34m[\u001b[0m\u001b[0mj\u001b[0m\u001b[0;34m]\u001b[0m\u001b[0;34m,\u001b[0m\u001b[0mVX\u001b[0m\u001b[0;34m[\u001b[0m\u001b[0mj\u001b[0m\u001b[0;34m]\u001b[0m\u001b[0;34m,\u001b[0m\u001b[0mVY\u001b[0m\u001b[0;34m[\u001b[0m\u001b[0mj\u001b[0m\u001b[0;34m]\u001b[0m\u001b[0;34m)\u001b[0m \u001b[0;31m#calcula la energia\u001b[0m\u001b[0;34m\u001b[0m\u001b[0;34m\u001b[0m\u001b[0m\n\u001b[1;32m      5\u001b[0m   \u001b[0mET\u001b[0m\u001b[0;34m[\u001b[0m\u001b[0mj\u001b[0m\u001b[0;34m]\u001b[0m\u001b[0;34m=\u001b[0m\u001b[0met\u001b[0m \u001b[0;31m#guarda el valor de la energia\u001b[0m\u001b[0;34m\u001b[0m\u001b[0;34m\u001b[0m\u001b[0m\n",
            "\u001b[0;31mNameError\u001b[0m: name 'np' is not defined"
          ]
        }
      ]
    }
  ]
}